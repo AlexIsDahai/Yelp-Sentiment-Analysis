{
 "cells": [
  {
   "cell_type": "markdown",
   "metadata": {},
   "source": [
    "# Yelp Review Sentiment Analysis Using Machine Learning"
   ]
  },
  {
   "cell_type": "raw",
   "metadata": {},
   "source": [
    "Sentiment analysis has been a popular user case for text mining to quickly and automatically gain insights of the customers’ experience. In this project, we used a yelp review dataset with 988 reviews and binary sentiment labels (p for positive and n for negative). Firstly, a Document Term Matrix (DTM) was prepared using NLP methods. Then, an analysis over sentiment polarity was performed using multiple classification algorithms. For each learning algorithm, perform grid search on a set of the key hyper-parameters with the reasonable range of the values in search for the best performining models."
   ]
  },
  {
   "cell_type": "markdown",
   "metadata": {},
   "source": [
    "## Loading Data"
   ]
  },
  {
   "cell_type": "code",
   "execution_count": 1,
   "metadata": {},
   "outputs": [],
   "source": [
    "import pandas as pd\n",
    "import numpy as np"
   ]
  },
  {
   "cell_type": "code",
   "execution_count": 2,
   "metadata": {},
   "outputs": [],
   "source": [
    "df = pd.read_csv('HW4_yelp_sentiment.csv')"
   ]
  },
  {
   "cell_type": "code",
   "execution_count": 3,
   "metadata": {
    "scrolled": false
   },
   "outputs": [
    {
     "data": {
      "text/html": [
       "<div>\n",
       "<style scoped>\n",
       "    .dataframe tbody tr th:only-of-type {\n",
       "        vertical-align: middle;\n",
       "    }\n",
       "\n",
       "    .dataframe tbody tr th {\n",
       "        vertical-align: top;\n",
       "    }\n",
       "\n",
       "    .dataframe thead th {\n",
       "        text-align: right;\n",
       "    }\n",
       "</style>\n",
       "<table border=\"1\" class=\"dataframe\">\n",
       "  <thead>\n",
       "    <tr style=\"text-align: right;\">\n",
       "      <th></th>\n",
       "      <th>reviews</th>\n",
       "      <th>sentiment</th>\n",
       "    </tr>\n",
       "  </thead>\n",
       "  <tbody>\n",
       "    <tr>\n",
       "      <th>count</th>\n",
       "      <td>988</td>\n",
       "      <td>988</td>\n",
       "    </tr>\n",
       "    <tr>\n",
       "      <th>unique</th>\n",
       "      <td>984</td>\n",
       "      <td>2</td>\n",
       "    </tr>\n",
       "    <tr>\n",
       "      <th>top</th>\n",
       "      <td>I won't be back.</td>\n",
       "      <td>n</td>\n",
       "    </tr>\n",
       "    <tr>\n",
       "      <th>freq</th>\n",
       "      <td>2</td>\n",
       "      <td>494</td>\n",
       "    </tr>\n",
       "  </tbody>\n",
       "</table>\n",
       "</div>"
      ],
      "text/plain": [
       "                 reviews sentiment\n",
       "count                988       988\n",
       "unique               984         2\n",
       "top     I won't be back.         n\n",
       "freq                   2       494"
      ]
     },
     "execution_count": 3,
     "metadata": {},
     "output_type": "execute_result"
    }
   ],
   "source": [
    "df.describe()\n",
    "### As we can see, this is a fairly balaced dataset"
   ]
  },
  {
   "cell_type": "code",
   "execution_count": 4,
   "metadata": {},
   "outputs": [
    {
     "data": {
      "text/plain": [
       "n    494\n",
       "p    494\n",
       "Name: sentiment, dtype: int64"
      ]
     },
     "execution_count": 4,
     "metadata": {},
     "output_type": "execute_result"
    }
   ],
   "source": [
    "df.sentiment.value_counts()"
   ]
  },
  {
   "cell_type": "code",
   "execution_count": 5,
   "metadata": {},
   "outputs": [],
   "source": [
    "df['sentiment'] = df.sentiment.replace(to_replace=['n', 'p'], value=[0, 1])\n",
    "### Code sentiment polarity into 1 and 0 for computational purpose"
   ]
  },
  {
   "cell_type": "code",
   "execution_count": 6,
   "metadata": {},
   "outputs": [
    {
     "data": {
      "text/html": [
       "<div>\n",
       "<style scoped>\n",
       "    .dataframe tbody tr th:only-of-type {\n",
       "        vertical-align: middle;\n",
       "    }\n",
       "\n",
       "    .dataframe tbody tr th {\n",
       "        vertical-align: top;\n",
       "    }\n",
       "\n",
       "    .dataframe thead th {\n",
       "        text-align: right;\n",
       "    }\n",
       "</style>\n",
       "<table border=\"1\" class=\"dataframe\">\n",
       "  <thead>\n",
       "    <tr style=\"text-align: right;\">\n",
       "      <th></th>\n",
       "      <th>reviews</th>\n",
       "      <th>sentiment</th>\n",
       "      <th>length</th>\n",
       "    </tr>\n",
       "  </thead>\n",
       "  <tbody>\n",
       "    <tr>\n",
       "      <th>225</th>\n",
       "      <td>As for the \"mains also uninspired.\\t0\\nThis is...</td>\n",
       "      <td>0</td>\n",
       "      <td>743</td>\n",
       "    </tr>\n",
       "    <tr>\n",
       "      <th>973</th>\n",
       "      <td>The problem I have is that they charge $11.99 ...</td>\n",
       "      <td>0</td>\n",
       "      <td>149</td>\n",
       "    </tr>\n",
       "    <tr>\n",
       "      <th>538</th>\n",
       "      <td>My boyfriend and I came here for the first tim...</td>\n",
       "      <td>1</td>\n",
       "      <td>148</td>\n",
       "    </tr>\n",
       "    <tr>\n",
       "      <th>41</th>\n",
       "      <td>Hard to judge whether these sides were good be...</td>\n",
       "      <td>0</td>\n",
       "      <td>147</td>\n",
       "    </tr>\n",
       "    <tr>\n",
       "      <th>784</th>\n",
       "      <td>So good I am going to have to review this plac...</td>\n",
       "      <td>1</td>\n",
       "      <td>146</td>\n",
       "    </tr>\n",
       "    <tr>\n",
       "      <th>...</th>\n",
       "      <td>...</td>\n",
       "      <td>...</td>\n",
       "      <td>...</td>\n",
       "    </tr>\n",
       "    <tr>\n",
       "      <th>468</th>\n",
       "      <td>I LOVED it!</td>\n",
       "      <td>1</td>\n",
       "      <td>11</td>\n",
       "    </tr>\n",
       "    <tr>\n",
       "      <th>652</th>\n",
       "      <td>Both great!</td>\n",
       "      <td>1</td>\n",
       "      <td>11</td>\n",
       "    </tr>\n",
       "    <tr>\n",
       "      <th>637</th>\n",
       "      <td>Great food.</td>\n",
       "      <td>1</td>\n",
       "      <td>11</td>\n",
       "    </tr>\n",
       "    <tr>\n",
       "      <th>570</th>\n",
       "      <td>Over rated.</td>\n",
       "      <td>0</td>\n",
       "      <td>11</td>\n",
       "    </tr>\n",
       "    <tr>\n",
       "      <th>163</th>\n",
       "      <td>DELICIOUS!!</td>\n",
       "      <td>1</td>\n",
       "      <td>11</td>\n",
       "    </tr>\n",
       "  </tbody>\n",
       "</table>\n",
       "<p>988 rows × 3 columns</p>\n",
       "</div>"
      ],
      "text/plain": [
       "                                               reviews  sentiment  length\n",
       "225  As for the \"mains also uninspired.\\t0\\nThis is...          0     743\n",
       "973  The problem I have is that they charge $11.99 ...          0     149\n",
       "538  My boyfriend and I came here for the first tim...          1     148\n",
       "41   Hard to judge whether these sides were good be...          0     147\n",
       "784  So good I am going to have to review this plac...          1     146\n",
       "..                                                 ...        ...     ...\n",
       "468                                        I LOVED it!          1      11\n",
       "652                                        Both great!          1      11\n",
       "637                                        Great food.          1      11\n",
       "570                                        Over rated.          0      11\n",
       "163                                        DELICIOUS!!          1      11\n",
       "\n",
       "[988 rows x 3 columns]"
      ]
     },
     "execution_count": 6,
     "metadata": {},
     "output_type": "execute_result"
    }
   ],
   "source": [
    "### Check the longest review\n",
    "df['length'] = df['reviews'].str.len()\n",
    "df.sort_values('length', ascending=False, inplace=True)\n",
    "df"
   ]
  },
  {
   "cell_type": "code",
   "execution_count": 7,
   "metadata": {},
   "outputs": [
    {
     "data": {
      "text/plain": [
       "'As for the \"mains also uninspired.\\t0\\nThis is the place where I first had pho and it was amazing!!\\t1\\nThis wonderful experience made this place a must-stop whenever we are in town again.\\t1\\nIf the food isn\\'t bad enough for you, then enjoy dealing with the world\\'s worst/annoying drunk people.\\t0\\nVery very fun chef.\\t1\\nOrdered a double cheeseburger & got a single patty that was falling apart (picture uploaded) Yeah, still sucks.\\t0\\nGreat place to have a couple drinks and watch any and all sporting events as the walls are covered with TV\\'s.\\t1\\nIf it were possible to give them zero stars, they\\'d have it.\\t0\\nThe descriptions said \"yum yum sauce\" and another said \"eel sauce yet another said \"spicy mayo\"...well NONE of the rolls had sauces on them.'"
      ]
     },
     "execution_count": 7,
     "metadata": {},
     "output_type": "execute_result"
    }
   ],
   "source": [
    "df['reviews'][225]"
   ]
  },
  {
   "cell_type": "code",
   "execution_count": 8,
   "metadata": {},
   "outputs": [],
   "source": [
    "reviews = df['reviews']"
   ]
  },
  {
   "cell_type": "code",
   "execution_count": 9,
   "metadata": {},
   "outputs": [],
   "source": [
    "import nltk"
   ]
  },
  {
   "cell_type": "markdown",
   "metadata": {},
   "source": [
    "## Document Term Matrix Preparation\n",
    "#### NLP: Tokenization, stemming, stopwords\n",
    "#### TF-IDF transoformation"
   ]
  },
  {
   "cell_type": "code",
   "execution_count": 10,
   "metadata": {},
   "outputs": [],
   "source": [
    "nltk_tokenizer = nltk.word_tokenize  ### Defiing tokenizer"
   ]
  },
  {
   "cell_type": "code",
   "execution_count": 11,
   "metadata": {},
   "outputs": [],
   "source": [
    "from sklearn.feature_extraction.text import TfidfVectorizer ### TFIDF Vectorization\n",
    "tfidf_vectorizer = TfidfVectorizer(\n",
    "        tokenizer=nltk_tokenizer, ### Tokenization\n",
    "        lowercase=True, \n",
    "        stop_words='english', ### Stopword removal\n",
    "        ngram_range = (1, 2),\n",
    "        max_features = 500,\n",
    "        smooth_idf=True,\n",
    "        sublinear_tf=True\n",
    "    ).fit(df['reviews'])"
   ]
  },
  {
   "cell_type": "code",
   "execution_count": 12,
   "metadata": {},
   "outputs": [],
   "source": [
    "### Vectorizing and train-test split\n",
    "from sklearn.model_selection import train_test_split\n",
    "def vectorize(vec):\n",
    "    X_tfidf = tfidf_vectorizer.fit_transform(df[\"reviews\"])\n",
    "    Y_sentiment = df['sentiment']\n",
    "    X_train, X_test, y_train, y_test = train_test_split(X_tfidf, Y_sentiment, test_size=0.2)\n",
    "    print('Number of features: {}'.format(X_tfidf.shape[1]))\n",
    "    print('Number of instances in train set: {}'.format(X_train.shape[0]))\n",
    "    print('Number of instances in test set: {}'.format(X_test.shape[0]))\n",
    "    return X_train, X_test, y_train, y_test"
   ]
  },
  {
   "cell_type": "code",
   "execution_count": 13,
   "metadata": {
    "scrolled": false
   },
   "outputs": [
    {
     "name": "stdout",
     "output_type": "stream",
     "text": [
      "Number of features: 500\n",
      "Number of instances in train set: 790\n",
      "Number of instances in test set: 198\n"
     ]
    }
   ],
   "source": [
    "X_train, X_test, y_train, y_test = vectorize(tfidf_vectorizer)"
   ]
  },
  {
   "cell_type": "markdown",
   "metadata": {},
   "source": [
    "## Using Different Machine Learning Algorithms for Sentiment Polarity Classification"
   ]
  },
  {
   "cell_type": "markdown",
   "metadata": {},
   "source": [
    "### Logistic Regression"
   ]
  },
  {
   "cell_type": "code",
   "execution_count": 14,
   "metadata": {},
   "outputs": [],
   "source": [
    "import pandas as pd\n",
    "import numpy as np\n",
    "import seaborn as sns\n",
    "import matplotlib.pyplot as plt\n",
    "from sklearn.datasets import load_boston\n",
    "from sklearn.preprocessing import StandardScaler \n",
    "from sklearn.model_selection import train_test_split \n",
    "from sklearn import metrics\n",
    "from sklearn.linear_model import LinearRegression, LogisticRegression \n",
    "from sklearn.pipeline import make_pipeline"
   ]
  },
  {
   "cell_type": "code",
   "execution_count": 15,
   "metadata": {},
   "outputs": [
    {
     "data": {
      "text/plain": [
       "array([1, 0, 0, 0, 0, 1, 0, 1, 1, 0, 0, 0, 1, 0, 0, 0, 1, 0, 1, 1, 1, 0,\n",
       "       0, 1, 0, 0, 0, 1, 1, 1, 0, 1, 1, 0, 0, 0, 1, 1, 0, 0, 1, 0, 0, 0,\n",
       "       0, 1, 0, 1, 0, 0, 0, 1, 1, 1, 0, 1, 0, 0, 1, 1, 1, 0, 0, 1, 1, 0,\n",
       "       0, 1, 0, 0, 1, 0, 1, 1, 1, 0, 0, 1, 0, 1, 1, 0, 1, 0, 1, 1, 0, 0,\n",
       "       0, 1, 1, 1, 0, 1, 1, 0, 1, 0, 0, 1, 0, 1, 1, 0, 1, 0, 1, 0, 0, 0,\n",
       "       0, 0, 0, 0, 1, 0, 1, 1, 0, 1, 1, 1, 1, 0, 0, 1, 0, 0, 0, 1, 1, 1,\n",
       "       0, 1, 0, 0, 1, 0, 1, 0, 0, 0, 1, 1, 1, 0, 1, 1, 0, 0, 1, 0, 1, 1,\n",
       "       0, 1, 0, 0, 1, 1, 0, 0, 1, 0, 1, 0, 1, 0, 0, 1, 0, 0, 1, 1, 1, 0,\n",
       "       0, 1, 1, 1, 1, 1, 1, 0, 1, 1, 0, 0, 1, 0, 1, 0, 0, 1, 0, 1, 0, 1])"
      ]
     },
     "execution_count": 15,
     "metadata": {},
     "output_type": "execute_result"
    }
   ],
   "source": [
    "### Make pipeline using logistic regression with standardization\n",
    "logr_pipe = make_pipeline(StandardScaler(with_mean = False), LogisticRegression(solver='lbfgs'))\n",
    "### Fit and predict\n",
    "logr_pipe.fit(X_train, y_train)\n",
    "y_pred = logr_pipe.predict(X_test)\n",
    "y_pred"
   ]
  },
  {
   "cell_type": "code",
   "execution_count": 16,
   "metadata": {},
   "outputs": [],
   "source": [
    "from sklearn.linear_model import LinearRegression\n",
    "from sklearn.model_selection import KFold\n",
    "from sklearn.model_selection import ShuffleSplit, cross_val_score, GridSearchCV"
   ]
  },
  {
   "cell_type": "code",
   "execution_count": 17,
   "metadata": {},
   "outputs": [
    {
     "data": {
      "text/plain": [
       "array([0.78862126, 0.87111293, 0.85260723, 0.86503322, 0.91353383,\n",
       "       0.78408163, 0.89983165, 0.89708333])"
      ]
     },
     "execution_count": 17,
     "metadata": {},
     "output_type": "execute_result"
    }
   ],
   "source": [
    "### Perform K-fold cross validation for logistic regression jusing AUC_ROC\n",
    "k_fold = KFold(n_splits=8, shuffle = False , random_state=42)\n",
    "lr = LogisticRegression(solver='lbfgs', C=1, max_iter=500)\n",
    "lr.fit(X_train, y_train)\n",
    "cross_validated_auc_roc = cross_val_score(lr, X_train, y_train, cv=k_fold, scoring='roc_auc')\n",
    "cross_validated_auc_roc"
   ]
  },
  {
   "cell_type": "code",
   "execution_count": 18,
   "metadata": {},
   "outputs": [
    {
     "data": {
      "text/plain": [
       "GridSearchCV(cv=ShuffleSplit(n_splits=10, random_state=16, test_size=0.3, train_size=None),\n",
       "       error_score='raise-deprecating',\n",
       "       estimator=LogisticRegression(C=1, class_weight=None, dual=False, fit_intercept=True,\n",
       "          intercept_scaling=1, max_iter=500, multi_class='warn',\n",
       "          n_jobs=None, penalty='l2', random_state=None, solver='lbfgs',\n",
       "          tol=0.0001, verbose=0, warm_start=False),\n",
       "       fit_params=None, iid='warn', n_jobs=None,\n",
       "       param_grid={'C': [0.001, 0.01, 0.1, 1, 10, 100, 1000]},\n",
       "       pre_dispatch='2*n_jobs', refit=True, return_train_score='warn',\n",
       "       scoring=None, verbose=0)"
      ]
     },
     "execution_count": 18,
     "metadata": {},
     "output_type": "execute_result"
    }
   ],
   "source": [
    "### Perform Grid Search for best performing model\n",
    "param_grid_lr = {'C': [0.001, 0.01, 0.1, 1, 10, 100, 1000]}\n",
    "bstrap = ShuffleSplit(n_splits=10, test_size=0.3, random_state=16)\n",
    "grid_bstrap_lr = GridSearchCV(lr, param_grid_lr, cv=bstrap)\n",
    "grid_bstrap_lr.fit(X_train, y_train)"
   ]
  },
  {
   "cell_type": "code",
   "execution_count": 19,
   "metadata": {},
   "outputs": [
    {
     "name": "stdout",
     "output_type": "stream",
     "text": [
      "Accuracy: 77.38%\n",
      "Hyperparameter: C; Value: 1\n"
     ]
    }
   ],
   "source": [
    "### Report best performing model from grid search with accuracy\n",
    "print(f\"Accuracy: {round(grid_bstrap_lr.best_score_*100, 2)}%\")\n",
    "\n",
    "for key, value in grid_bstrap_lr.best_params_.items():\n",
    "    print(f\"Hyperparameter: {key}; Value: {value}\")"
   ]
  },
  {
   "cell_type": "markdown",
   "metadata": {},
   "source": [
    "### Neural Network\n",
    "Experiment with different ANN architectural parameters as well as model parameters"
   ]
  },
  {
   "cell_type": "code",
   "execution_count": 20,
   "metadata": {},
   "outputs": [
    {
     "name": "stderr",
     "output_type": "stream",
     "text": [
      "Using TensorFlow backend.\n"
     ]
    }
   ],
   "source": [
    "from keras import models\n",
    "from keras.models import Sequential\n",
    "from keras.layers import Dense"
   ]
  },
  {
   "cell_type": "code",
   "execution_count": 21,
   "metadata": {},
   "outputs": [
    {
     "data": {
      "text/plain": [
       "(None, 1)"
      ]
     },
     "execution_count": 21,
     "metadata": {},
     "output_type": "execute_result"
    }
   ],
   "source": [
    "deep_nn = Sequential()\n",
    "deep_nn.add(Dense(6, activation='relu', input_shape=(500, )))\n",
    "deep_nn.add(Dense(6, activation='relu'))\n",
    "deep_nn.add(Dense(1, activation='sigmoid'))\n",
    "deep_nn.output_shape"
   ]
  },
  {
   "cell_type": "code",
   "execution_count": 22,
   "metadata": {},
   "outputs": [
    {
     "name": "stdout",
     "output_type": "stream",
     "text": [
      "Model: \"sequential_1\"\n",
      "_________________________________________________________________\n",
      "Layer (type)                 Output Shape              Param #   \n",
      "=================================================================\n",
      "dense_1 (Dense)              (None, 6)                 3006      \n",
      "_________________________________________________________________\n",
      "dense_2 (Dense)              (None, 6)                 42        \n",
      "_________________________________________________________________\n",
      "dense_3 (Dense)              (None, 1)                 7         \n",
      "=================================================================\n",
      "Total params: 3,055\n",
      "Trainable params: 3,055\n",
      "Non-trainable params: 0\n",
      "_________________________________________________________________\n"
     ]
    }
   ],
   "source": [
    "deep_nn.summary()"
   ]
  },
  {
   "cell_type": "code",
   "execution_count": 23,
   "metadata": {},
   "outputs": [],
   "source": [
    "### After model tuning, we found that the adam optimizer is generating the lowest cross entropy loss\n",
    "deep_nn.compile(loss='binary_crossentropy', optimizer='adam', metrics=['accuracy'])"
   ]
  },
  {
   "cell_type": "code",
   "execution_count": 24,
   "metadata": {
    "scrolled": true
   },
   "outputs": [
    {
     "name": "stdout",
     "output_type": "stream",
     "text": [
      "Epoch 1/20\n",
      "790/790 [==============================] - 1s 2ms/step - loss: 0.6913 - accuracy: 0.5456\n",
      "Epoch 2/20\n",
      "790/790 [==============================] - 1s 1ms/step - loss: 0.6334 - accuracy: 0.7557\n",
      "Epoch 3/20\n",
      "790/790 [==============================] - 1s 1ms/step - loss: 0.4566 - accuracy: 0.8443\n",
      "Epoch 4/20\n",
      "790/790 [==============================] - 1s 1ms/step - loss: 0.3217 - accuracy: 0.8797\n",
      "Epoch 5/20\n",
      "790/790 [==============================] - 1s 1ms/step - loss: 0.2555 - accuracy: 0.8949\n",
      "Epoch 6/20\n",
      "790/790 [==============================] - 1s 1ms/step - loss: 0.2180 - accuracy: 0.9089\n",
      "Epoch 7/20\n",
      "790/790 [==============================] - 1s 1ms/step - loss: 0.1928 - accuracy: 0.9266\n",
      "Epoch 8/20\n",
      "790/790 [==============================] - 1s 2ms/step - loss: 0.1746 - accuracy: 0.9291\n",
      "Epoch 9/20\n",
      "790/790 [==============================] - 1s 1ms/step - loss: 0.1549 - accuracy: 0.9443\n",
      "Epoch 10/20\n",
      "790/790 [==============================] - 1s 1ms/step - loss: 0.1467 - accuracy: 0.9456\n",
      "Epoch 11/20\n",
      "790/790 [==============================] - 1s 1ms/step - loss: 0.1314 - accuracy: 0.9532\n",
      "Epoch 12/20\n",
      "790/790 [==============================] - 1s 1ms/step - loss: 0.1266 - accuracy: 0.9481\n",
      "Epoch 13/20\n",
      "790/790 [==============================] - 1s 1ms/step - loss: 0.1166 - accuracy: 0.9570\n",
      "Epoch 14/20\n",
      "790/790 [==============================] - 1s 1ms/step - loss: 0.1121 - accuracy: 0.9582\n",
      "Epoch 15/20\n",
      "790/790 [==============================] - 1s 1ms/step - loss: 0.1040 - accuracy: 0.9544\n",
      "Epoch 16/20\n",
      "790/790 [==============================] - 1s 1ms/step - loss: 0.1011 - accuracy: 0.9620\n",
      "Epoch 17/20\n",
      "790/790 [==============================] - 1s 1ms/step - loss: 0.0983 - accuracy: 0.9595\n",
      "Epoch 18/20\n",
      "790/790 [==============================] - 1s 1ms/step - loss: 0.0955 - accuracy: 0.9570\n",
      "Epoch 19/20\n",
      "790/790 [==============================] - 1s 1ms/step - loss: 0.0902 - accuracy: 0.9582\n",
      "Epoch 20/20\n",
      "790/790 [==============================] - 1s 1ms/step - loss: 0.0834 - accuracy: 0.9671\n"
     ]
    },
    {
     "data": {
      "text/plain": [
       "<keras.callbacks.callbacks.History at 0x1a3e674d50>"
      ]
     },
     "execution_count": 24,
     "metadata": {},
     "output_type": "execute_result"
    }
   ],
   "source": [
    "deep_nn.fit(X_train, y_train, epochs=20, batch_size=1, verbose=1)"
   ]
  },
  {
   "cell_type": "markdown",
   "metadata": {},
   "source": [
    "### Decision Tree"
   ]
  },
  {
   "cell_type": "code",
   "execution_count": 25,
   "metadata": {},
   "outputs": [],
   "source": [
    "import pandas as pd\n",
    "import numpy as np\n",
    "from sklearn.tree import DecisionTreeClassifier\n",
    "from sklearn.model_selection import train_test_split, GridSearchCV, cross_val_score, cross_validate, ShuffleSplit, LeaveOneOut\n",
    "from sklearn import metrics\n",
    "from matplotlib import pyplot as plt"
   ]
  },
  {
   "cell_type": "code",
   "execution_count": 26,
   "metadata": {},
   "outputs": [
    {
     "data": {
      "text/plain": [
       "DecisionTreeClassifier(class_weight=None, criterion='gini', max_depth=20,\n",
       "            max_features=None, max_leaf_nodes=20,\n",
       "            min_impurity_decrease=0.0, min_impurity_split=None,\n",
       "            min_samples_leaf=1, min_samples_split=30,\n",
       "            min_weight_fraction_leaf=0.0, presort=False, random_state=None,\n",
       "            splitter='best')"
      ]
     },
     "execution_count": 26,
     "metadata": {},
     "output_type": "execute_result"
    }
   ],
   "source": [
    "### Build decision tree classifier and fit on data\n",
    "dt = DecisionTreeClassifier(criterion='gini', max_depth=20, max_leaf_nodes=20, \n",
    "                            min_samples_leaf=1, min_samples_split=30)\n",
    "dt.fit(X_train, y_train)"
   ]
  },
  {
   "cell_type": "code",
   "execution_count": 27,
   "metadata": {
    "scrolled": true
   },
   "outputs": [
    {
     "data": {
      "text/plain": [
       "GridSearchCV(cv=5, error_score='raise-deprecating',\n",
       "       estimator=DecisionTreeClassifier(class_weight=None, criterion='gini', max_depth=20,\n",
       "            max_features=None, max_leaf_nodes=20,\n",
       "            min_impurity_decrease=0.0, min_impurity_split=None,\n",
       "            min_samples_leaf=1, min_samples_split=30,\n",
       "            min_weight_fraction_leaf=0.0, presort=False, random_state=None,\n",
       "            splitter='best'),\n",
       "       fit_params=None, iid='warn', n_jobs=None,\n",
       "       param_grid={'criterion': ['gini', 'entropy'], 'min_samples_split': [2, 10, 20, 30], 'max_depth': [4, 5, 6, 10, 15, 20], 'min_samples_leaf': [1, 5, 10], 'max_leaf_nodes': [2, 5, 10, 20]},\n",
       "       pre_dispatch='2*n_jobs', refit=True, return_train_score='warn',\n",
       "       scoring=None, verbose=0)"
      ]
     },
     "execution_count": 27,
     "metadata": {},
     "output_type": "execute_result"
    }
   ],
   "source": [
    "### perform grid search to find the best parameter for decision tree\n",
    "param_grid = {'criterion': ['gini', 'entropy'],\n",
    "              'min_samples_split': [2, 10, 20, 30],\n",
    "              'max_depth': [4, 5, 6, 10, 15, 20],\n",
    "              'min_samples_leaf': [ 1, 5, 10],\n",
    "              'max_leaf_nodes': [2, 5, 10, 20]}\n",
    "grid = GridSearchCV(dt, param_grid, cv=5)\n",
    "grid.fit(X_train, y_train)"
   ]
  },
  {
   "cell_type": "code",
   "execution_count": 28,
   "metadata": {},
   "outputs": [
    {
     "data": {
      "text/plain": [
       "GridSearchCV(cv=ShuffleSplit(n_splits=10, random_state=16, test_size=0.3, train_size=None),\n",
       "       error_score='raise-deprecating',\n",
       "       estimator=DecisionTreeClassifier(class_weight=None, criterion='gini', max_depth=20,\n",
       "            max_features=None, max_leaf_nodes=20,\n",
       "            min_impurity_decrease=0.0, min_impurity_split=None,\n",
       "            min_samples_leaf=1, min_samples_split=30,\n",
       "            min_weight_fraction_leaf=0.0, presort=False, random_state=None,\n",
       "            splitter='best'),\n",
       "       fit_params=None, iid='warn', n_jobs=None,\n",
       "       param_grid={'criterion': ['gini', 'entropy'], 'min_samples_split': [2, 10, 20, 30], 'max_depth': [4, 5, 6, 10, 15, 20], 'min_samples_leaf': [1, 5, 10], 'max_leaf_nodes': [2, 5, 10, 20]},\n",
       "       pre_dispatch='2*n_jobs', refit=True, return_train_score='warn',\n",
       "       scoring=None, verbose=0)"
      ]
     },
     "execution_count": 28,
     "metadata": {},
     "output_type": "execute_result"
    }
   ],
   "source": [
    "### Use random shuffling to perform grid search\n",
    "bstrap = ShuffleSplit(n_splits=10, test_size=0.3, random_state=16)\n",
    "grid_bstrap = GridSearchCV(dt, param_grid, cv=bstrap)\n",
    "grid_bstrap.fit(X_train, y_train)"
   ]
  },
  {
   "cell_type": "code",
   "execution_count": 29,
   "metadata": {},
   "outputs": [
    {
     "name": "stdout",
     "output_type": "stream",
     "text": [
      "Accuracy: 72.49%\n"
     ]
    }
   ],
   "source": [
    "print(f\"Accuracy: {round(grid_bstrap.best_score_*100, 2)}%\")"
   ]
  },
  {
   "cell_type": "code",
   "execution_count": 30,
   "metadata": {},
   "outputs": [
    {
     "name": "stdout",
     "output_type": "stream",
     "text": [
      "Hyperparameter: criterion; Value: gini\n",
      "Hyperparameter: max_depth; Value: 20\n",
      "Hyperparameter: max_leaf_nodes; Value: 20\n",
      "Hyperparameter: min_samples_leaf; Value: 1\n",
      "Hyperparameter: min_samples_split; Value: 30\n"
     ]
    }
   ],
   "source": [
    "for key, value in grid_bstrap.best_params_.items():\n",
    "    print(f\"Hyperparameter: {key}; Value: {value}\")"
   ]
  },
  {
   "cell_type": "code",
   "execution_count": 31,
   "metadata": {},
   "outputs": [
    {
     "data": {
      "text/plain": [
       "array([0.73629568, 0.79623568, 0.67893188, 0.75664452, 0.71240602,\n",
       "       0.7155102 , 0.67150673, 0.76208333])"
      ]
     },
     "execution_count": 31,
     "metadata": {},
     "output_type": "execute_result"
    }
   ],
   "source": [
    "dt_cross_validated_auc_roc = cross_val_score(dt, X_train, y_train, cv=k_fold, scoring='roc_auc')\n",
    "dt_cross_validated_auc_roc"
   ]
  },
  {
   "cell_type": "markdown",
   "metadata": {},
   "source": [
    "## Comparing the performance of different machine learning algorithms"
   ]
  },
  {
   "cell_type": "code",
   "execution_count": 32,
   "metadata": {},
   "outputs": [],
   "source": [
    "### Here we draw AUC_ROC curve to compare the classification performance for different classifiers\n",
    "from sklearn.metrics import roc_curve, auc"
   ]
  },
  {
   "cell_type": "code",
   "execution_count": 33,
   "metadata": {},
   "outputs": [],
   "source": [
    "prediction = {}"
   ]
  },
  {
   "cell_type": "code",
   "execution_count": 34,
   "metadata": {},
   "outputs": [],
   "source": [
    "prediction['Decision Tree'] = dt.predict(X_test)\n",
    "prediction['Logistic Regression'] = lr.predict(X_test)\n",
    "prediction['Deep Learning'] = deep_nn.predict(X_test)"
   ]
  },
  {
   "cell_type": "code",
   "execution_count": 36,
   "metadata": {},
   "outputs": [
    {
     "data": {
      "image/png": "[encoded data removed]",
      "text/plain": [
       "<Figure size 432x288 with 1 Axes>"
      ]
     },
     "metadata": {
      "needs_background": "light"
     },
     "output_type": "display_data"
    }
   ],
   "source": [
    "from sklearn.metrics import roc_curve, auc\n",
    "\n",
    "\n",
    "cmp = 0\n",
    "colors = ['b', 'g', 'y', 'm', 'k', 'r', 'p']\n",
    "for model, predicted in prediction.items():\n",
    "    false_positive_rate, true_positive_rate, thresholds = roc_curve(y_test, predicted)\n",
    "    roc_auc = auc(false_positive_rate, true_positive_rate)\n",
    "    plt.plot(false_positive_rate, true_positive_rate, colors[cmp], label='%s: AUC %0.2f'% (model,roc_auc))\n",
    "    cmp += 1\n",
    "\n",
    "plt.title('Classifiers comparaison with ROC')\n",
    "plt.legend(loc='lower right')\n",
    "plt.plot([0,1],[0,1],'r--')\n",
    "plt.xlim([-0.1,1.2])\n",
    "plt.ylim([-0.1,1.2])\n",
    "plt.ylabel('True Positive Rate')\n",
    "plt.xlabel('False Positive Rate')\n",
    "plt.show()"
   ]
  },
  {
   "cell_type": "code",
   "execution_count": 37,
   "metadata": {},
   "outputs": [],
   "source": [
    "### As we can see, Deep Neural Network has the best performance"
   ]
  },
  {
   "cell_type": "markdown",
   "metadata": {},
   "source": [
    "### Addition: Other data cleaning methods with NLTK"
   ]
  },
  {
   "cell_type": "code",
   "execution_count": 38,
   "metadata": {},
   "outputs": [
    {
     "name": "stdout",
     "output_type": "stream",
     "text": [
      "['as', 'for', 'the', '``', 'mains', 'also', 'uninspired', '.', '0', 'this', 'is', 'the', 'place', 'where', 'i', 'first', 'had', 'pho', 'and', 'it', 'was', 'amazing', '!', '!', '1', 'this', 'wonderful', 'experience', 'made', 'this', 'place', 'a', 'must-stop', 'whenever', 'we', 'are', 'in', 'town', 'again', '.', '1', 'if', 'the', 'food', 'is', \"n't\", 'bad', 'enough', 'for', 'you', ',', 'then', 'enjoy', 'dealing', 'with', 'the', 'world', \"'s\", 'worst/annoying', 'drunk', 'people', '.', '0', 'very', 'very', 'fun', 'chef', '.', '1', 'ordered', 'a', 'double', 'cheeseburger', '&', 'got', 'a', 'single', 'patty', 'that', 'was', 'falling', 'apart', '(', 'picture', 'uploaded', ')', 'yeah', ',', 'still', 'sucks', '.', '0', 'great', 'place', 'to', 'have', 'a', 'couple', 'drinks', 'and', 'watch', 'any', 'and', 'all', 'sporting', 'events', 'as', 'the', 'walls', 'are', 'covered', 'with', 'tv', \"'s\", '.', '1', 'if', 'it', 'were', 'possible', 'to', 'give', 'them', 'zero', 'stars', ',', 'they', \"'d\", 'have', 'it', '.', '0', 'the', 'descriptions', 'said', '``', 'yum', 'yum', 'sauce', \"''\", 'and', 'another', 'said', '``', 'eel', 'sauce', 'yet', 'another', 'said', '``', 'spicy', 'mayo', \"''\", '...', 'well', 'none', 'of', 'the', 'rolls', 'had', 'sauces', 'on', 'them', '.']\n",
      "['as', 'for', 'the', '``', 'main', 'also', 'uninspir', '.', '0', 'thi', 'is', 'the', 'place', 'where', 'i', 'first', 'had', 'pho', 'and', 'it', 'wa', 'amaz', '!', '!', '1', 'thi', 'wonder', 'experi', 'made', 'thi', 'place', 'a', 'must-stop', 'whenev', 'we', 'are', 'in', 'town', 'again', '.', '1', 'if', 'the', 'food', 'is', \"n't\", 'bad', 'enough', 'for', 'you', ',', 'then', 'enjoy', 'deal', 'with', 'the', 'world', \"'s\", 'worst/annoy', 'drunk', 'peopl', '.', '0', 'veri', 'veri', 'fun', 'chef', '.', '1', 'order', 'a', 'doubl', 'cheeseburg', '&', 'got', 'a', 'singl', 'patti', 'that', 'wa', 'fall', 'apart', '(', 'pictur', 'upload', ')', 'yeah', ',', 'still', 'suck', '.', '0', 'great', 'place', 'to', 'have', 'a', 'coupl', 'drink', 'and', 'watch', 'ani', 'and', 'all', 'sport', 'event', 'as', 'the', 'wall', 'are', 'cover', 'with', 'tv', \"'s\", '.', '1', 'if', 'it', 'were', 'possibl', 'to', 'give', 'them', 'zero', 'star', ',', 'they', \"'d\", 'have', 'it', '.', '0', 'the', 'descript', 'said', '``', 'yum', 'yum', 'sauc', \"''\", 'and', 'anoth', 'said', '``', 'eel', 'sauc', 'yet', 'anoth', 'said', '``', 'spici', 'mayo', \"''\", '...', 'well', 'none', 'of', 'the', 'roll', 'had', 'sauc', 'on', 'them', '.']\n",
      "['a', 'for', 'the', '``', 'main', 'also', 'uninspired', '.', '0', 'this', 'is', 'the', 'place', 'where', 'i', 'first', 'had', 'pho', 'and', 'it', 'wa', 'amazing', '!', '!', '1', 'this', 'wonderful', 'experience', 'made', 'this', 'place', 'a', 'must-stop', 'whenever', 'we', 'are', 'in', 'town', 'again', '.', '1', 'if', 'the', 'food', 'is', \"n't\", 'bad', 'enough', 'for', 'you', ',', 'then', 'enjoy', 'dealing', 'with', 'the', 'world', \"'s\", 'worst/annoying', 'drunk', 'people', '.', '0', 'very', 'very', 'fun', 'chef', '.', '1', 'ordered', 'a', 'double', 'cheeseburger', '&', 'got', 'a', 'single', 'patty', 'that', 'wa', 'falling', 'apart', '(', 'picture', 'uploaded', ')', 'yeah', ',', 'still', 'suck', '.', '0', 'great', 'place', 'to', 'have', 'a', 'couple', 'drink', 'and', 'watch', 'any', 'and', 'all', 'sporting', 'event', 'a', 'the', 'wall', 'are', 'covered', 'with', 'tv', \"'s\", '.', '1', 'if', 'it', 'were', 'possible', 'to', 'give', 'them', 'zero', 'star', ',', 'they', \"'d\", 'have', 'it', '.', '0', 'the', 'description', 'said', '``', 'yum', 'yum', 'sauce', \"''\", 'and', 'another', 'said', '``', 'eel', 'sauce', 'yet', 'another', 'said', '``', 'spicy', 'mayo', \"''\", '...', 'well', 'none', 'of', 'the', 'roll', 'had', 'sauce', 'on', 'them', '.']\n",
      "['``', 'main', 'also', 'uninspired', '.', '0', 'place', 'first', 'pho', 'wa', 'amazing', '!', '!', '1', 'wonderful', 'experience', 'made', 'place', 'must-stop', 'whenever', 'town', '.', '1', 'food', \"n't\", 'bad', 'enough', ',', 'enjoy', 'dealing', 'world', \"'s\", 'worst/annoying', 'drunk', 'people', '.', '0', 'fun', 'chef', '.', '1', 'ordered', 'double', 'cheeseburger', '&', 'got', 'single', 'patty', 'wa', 'falling', 'apart', '(', 'picture', 'uploaded', ')', 'yeah', ',', 'still', 'suck', '.', '0', 'great', 'place', 'couple', 'drink', 'watch', 'sporting', 'event', 'wall', 'covered', 'tv', \"'s\", '.', '1', 'possible', 'give', 'zero', 'star', ',', \"'d\", '.', '0', 'description', 'said', '``', 'yum', 'yum', 'sauce', \"''\", 'another', 'said', '``', 'eel', 'sauce', 'yet', 'another', 'said', '``', 'spicy', 'mayo', \"''\", '...', 'well', 'none', 'roll', 'sauce', '.']\n"
     ]
    },
    {
     "data": {
      "text/plain": [
       "'s for the mains also uninspired his is the place where first had pho and it was amazing his wonderful experience made this place a must stop whenever we are in town again f the food isn t bad enough for you then enjoy dealing with the world s worst annoying drunk people ery very fun chef rdered a double cheeseburger got a single patty that was falling apart picture uploaded eah still sucks reat place to have a couple drinks and watch any and all sporting events as the walls are covered with s f it were possible to give them zero stars they d have it he descriptions said yum yum sauce and another said eel sauce yet another said spicy mayo well of the rolls had sauces on them'"
      ]
     },
     "execution_count": 38,
     "metadata": {},
     "output_type": "execute_result"
    }
   ],
   "source": [
    "sample = reviews[225]\n",
    "sample\n",
    "\n",
    "### Casing\n",
    "sample.lower()\n",
    "\n",
    "### Tokenization\n",
    "token = nltk.word_tokenize(sample.lower())\n",
    "print(token)\n",
    "\n",
    "### Steming\n",
    "porter = nltk.PorterStemmer()\n",
    "stemmed_token = [porter.stem(t) for t in token]\n",
    "print(stemmed_token)\n",
    "\n",
    "### Lemmatization\n",
    "wn_Lemmatizer = nltk.WordNetLemmatizer()\n",
    "lemmatized_token = [wn_Lemmatizer.lemmatize(t) for t in token]\n",
    "print(lemmatized_token)\n",
    "\n",
    "### Stop Words\n",
    "stopwords = nltk.corpus.stopwords.words('english')\n",
    "\n",
    "lemma_token_stopwords_removed = [w for w in lemmatized_token if w not in stopwords]\n",
    "print(lemma_token_stopwords_removed)\n",
    "\n",
    "import re\n",
    "cleanup_re = re.compile('[^a-z]+')\n",
    "cleanup_re.sub(' ', sample).strip()\n",
    "\n",
    "\n",
    "\n"
   ]
  },
  {
   "cell_type": "code",
   "execution_count": 39,
   "metadata": {},
   "outputs": [
    {
     "data": {
      "text/plain": [
       "225      (0, 6215)\\t0.07717624375976634\\n  (0, 6214)\\...\n",
       "973      (0, 5663)\\t0.2094820995538818\\n  (0, 5556)\\t...\n",
       "538      (0, 5507)\\t0.23209465428906134\\n  (0, 5506)\\...\n",
       "41       (0, 6057)\\t0.2141859074527099\\n  (0, 6056)\\t...\n",
       "784      (0, 5538)\\t0.2082966990472628\\n  (0, 5536)\\t...\n",
       "                             ...                        \n",
       "468                                                     \n",
       "652      (0, 3724)\\t0.6938197225801094\\n  (0, 3722)\\t...\n",
       "637      (0, 4349)\\t0.7219572554819609\\n  (0, 4346)\\t...\n",
       "570      (0, 5683)\\t0.5881748032073112\\n  (0, 5682)\\t...\n",
       "163                                                     \n",
       "Name: tfidf, Length: 988, dtype: object"
      ]
     },
     "execution_count": 39,
     "metadata": {},
     "output_type": "execute_result"
    }
   ],
   "source": [
    "### Tokenization,  casing, stemming and lemmatization, Stop words,\n",
    "\n",
    "def token_case_lemma_stop_review(one_review):\n",
    "    sentence = cleanup_re.sub(' ', one_review).strip() ### clean up non-words\n",
    "    token = nltk.word_tokenize(sentence.lower()) ### casing and tokenization\n",
    "    lemmatized_token = [wn_Lemmatizer.lemmatize(t) for t in token] ### lemmatization\n",
    "    lemma_token_stopwords_removed = [w for w in lemmatized_token if w not in stopwords] ### stopwords removal\n",
    "    return str(lemma_token_stopwords_removed)\n",
    "    \n",
    "    \n",
    "\n",
    "### Run pre-processing function on the dataset\n",
    "df['reviews_preprocessed'] = df['reviews'].apply(token_case_lemma_stop_review)\n",
    "\n",
    "df['reviews_preprocessed']\n",
    "\n",
    "# For this homework, you need to prepare the Document Term Matrix (DTM) using the provided text data and perform the sentiment analysis using multiple classification algorithms \n",
    "\n",
    "from sklearn.feature_extraction.text import TfidfVectorizer\n",
    "\n",
    "tfidf_vectorizer = TfidfVectorizer(ngram_range = (1, 2))\n",
    "\n",
    "tfidf_vectorizer.fit(df[\"reviews_preprocessed\"])\n",
    "\n",
    "tfidf_vectorizer.vocabulary_\n",
    "tfidf_vectorizer.transform(df['reviews_preprocessed'])\n",
    "\n",
    "df['tfidf']=list(tfidf_vectorizer.transform(df['reviews_preprocessed']))\n",
    "\n",
    "df['tfidf']"
   ]
  },
  {
   "cell_type": "code",
   "execution_count": 40,
   "metadata": {},
   "outputs": [
    {
     "data": {
      "text/html": [
       "<div>\n",
       "<style scoped>\n",
       "    .dataframe tbody tr th:only-of-type {\n",
       "        vertical-align: middle;\n",
       "    }\n",
       "\n",
       "    .dataframe tbody tr th {\n",
       "        vertical-align: top;\n",
       "    }\n",
       "\n",
       "    .dataframe thead th {\n",
       "        text-align: right;\n",
       "    }\n",
       "</style>\n",
       "<table border=\"1\" class=\"dataframe\">\n",
       "  <thead>\n",
       "    <tr style=\"text-align: right;\">\n",
       "      <th></th>\n",
       "      <th>reviews</th>\n",
       "      <th>sentiment</th>\n",
       "      <th>length</th>\n",
       "      <th>reviews_preprocessed</th>\n",
       "      <th>tfidf</th>\n",
       "    </tr>\n",
       "  </thead>\n",
       "  <tbody>\n",
       "    <tr>\n",
       "      <th>225</th>\n",
       "      <td>As for the \"mains also uninspired.\\t0\\nThis is...</td>\n",
       "      <td>0</td>\n",
       "      <td>743</td>\n",
       "      <td>['main', 'also', 'uninspired', 'place', 'first...</td>\n",
       "      <td>(0, 6215)\\t0.07717624375976634\\n  (0, 6214)\\...</td>\n",
       "    </tr>\n",
       "    <tr>\n",
       "      <th>973</th>\n",
       "      <td>The problem I have is that they charge $11.99 ...</td>\n",
       "      <td>0</td>\n",
       "      <td>149</td>\n",
       "      <td>['problem', 'charge', 'sandwich', 'bigger', 'u...</td>\n",
       "      <td>(0, 5663)\\t0.2094820995538818\\n  (0, 5556)\\t...</td>\n",
       "    </tr>\n",
       "    <tr>\n",
       "      <th>538</th>\n",
       "      <td>My boyfriend and I came here for the first tim...</td>\n",
       "      <td>1</td>\n",
       "      <td>148</td>\n",
       "      <td>['boyfriend', 'came', 'first', 'time', 'recent...</td>\n",
       "      <td>(0, 5507)\\t0.23209465428906134\\n  (0, 5506)\\...</td>\n",
       "    </tr>\n",
       "    <tr>\n",
       "      <th>41</th>\n",
       "      <td>Hard to judge whether these sides were good be...</td>\n",
       "      <td>0</td>\n",
       "      <td>147</td>\n",
       "      <td>['ard', 'judge', 'whether', 'side', 'good', 'g...</td>\n",
       "      <td>(0, 6057)\\t0.2141859074527099\\n  (0, 6056)\\t...</td>\n",
       "    </tr>\n",
       "    <tr>\n",
       "      <th>784</th>\n",
       "      <td>So good I am going to have to review this plac...</td>\n",
       "      <td>1</td>\n",
       "      <td>146</td>\n",
       "      <td>['good', 'going', 'review', 'place', 'twice', ...</td>\n",
       "      <td>(0, 5538)\\t0.2082966990472628\\n  (0, 5536)\\t...</td>\n",
       "    </tr>\n",
       "    <tr>\n",
       "      <th>...</th>\n",
       "      <td>...</td>\n",
       "      <td>...</td>\n",
       "      <td>...</td>\n",
       "      <td>...</td>\n",
       "      <td>...</td>\n",
       "    </tr>\n",
       "    <tr>\n",
       "      <th>468</th>\n",
       "      <td>I LOVED it!</td>\n",
       "      <td>1</td>\n",
       "      <td>11</td>\n",
       "      <td>[]</td>\n",
       "      <td></td>\n",
       "    </tr>\n",
       "    <tr>\n",
       "      <th>652</th>\n",
       "      <td>Both great!</td>\n",
       "      <td>1</td>\n",
       "      <td>11</td>\n",
       "      <td>['oth', 'great']</td>\n",
       "      <td>(0, 3724)\\t0.6938197225801094\\n  (0, 3722)\\t...</td>\n",
       "    </tr>\n",
       "    <tr>\n",
       "      <th>637</th>\n",
       "      <td>Great food.</td>\n",
       "      <td>1</td>\n",
       "      <td>11</td>\n",
       "      <td>['reat', 'food']</td>\n",
       "      <td>(0, 4349)\\t0.7219572554819609\\n  (0, 4346)\\t...</td>\n",
       "    </tr>\n",
       "    <tr>\n",
       "      <th>570</th>\n",
       "      <td>Over rated.</td>\n",
       "      <td>0</td>\n",
       "      <td>11</td>\n",
       "      <td>['ver', 'rated']</td>\n",
       "      <td>(0, 5683)\\t0.5881748032073112\\n  (0, 5682)\\t...</td>\n",
       "    </tr>\n",
       "    <tr>\n",
       "      <th>163</th>\n",
       "      <td>DELICIOUS!!</td>\n",
       "      <td>1</td>\n",
       "      <td>11</td>\n",
       "      <td>[]</td>\n",
       "      <td></td>\n",
       "    </tr>\n",
       "  </tbody>\n",
       "</table>\n",
       "<p>988 rows × 5 columns</p>\n",
       "</div>"
      ],
      "text/plain": [
       "                                               reviews  sentiment  length  \\\n",
       "225  As for the \"mains also uninspired.\\t0\\nThis is...          0     743   \n",
       "973  The problem I have is that they charge $11.99 ...          0     149   \n",
       "538  My boyfriend and I came here for the first tim...          1     148   \n",
       "41   Hard to judge whether these sides were good be...          0     147   \n",
       "784  So good I am going to have to review this plac...          1     146   \n",
       "..                                                 ...        ...     ...   \n",
       "468                                        I LOVED it!          1      11   \n",
       "652                                        Both great!          1      11   \n",
       "637                                        Great food.          1      11   \n",
       "570                                        Over rated.          0      11   \n",
       "163                                        DELICIOUS!!          1      11   \n",
       "\n",
       "                                  reviews_preprocessed  \\\n",
       "225  ['main', 'also', 'uninspired', 'place', 'first...   \n",
       "973  ['problem', 'charge', 'sandwich', 'bigger', 'u...   \n",
       "538  ['boyfriend', 'came', 'first', 'time', 'recent...   \n",
       "41   ['ard', 'judge', 'whether', 'side', 'good', 'g...   \n",
       "784  ['good', 'going', 'review', 'place', 'twice', ...   \n",
       "..                                                 ...   \n",
       "468                                                 []   \n",
       "652                                   ['oth', 'great']   \n",
       "637                                   ['reat', 'food']   \n",
       "570                                   ['ver', 'rated']   \n",
       "163                                                 []   \n",
       "\n",
       "                                                 tfidf  \n",
       "225    (0, 6215)\\t0.07717624375976634\\n  (0, 6214)\\...  \n",
       "973    (0, 5663)\\t0.2094820995538818\\n  (0, 5556)\\t...  \n",
       "538    (0, 5507)\\t0.23209465428906134\\n  (0, 5506)\\...  \n",
       "41     (0, 6057)\\t0.2141859074527099\\n  (0, 6056)\\t...  \n",
       "784    (0, 5538)\\t0.2082966990472628\\n  (0, 5536)\\t...  \n",
       "..                                                 ...  \n",
       "468                                                     \n",
       "652    (0, 3724)\\t0.6938197225801094\\n  (0, 3722)\\t...  \n",
       "637    (0, 4349)\\t0.7219572554819609\\n  (0, 4346)\\t...  \n",
       "570    (0, 5683)\\t0.5881748032073112\\n  (0, 5682)\\t...  \n",
       "163                                                     \n",
       "\n",
       "[988 rows x 5 columns]"
      ]
     },
     "execution_count": 40,
     "metadata": {},
     "output_type": "execute_result"
    }
   ],
   "source": [
    "df"
   ]
  },
  {
   "cell_type": "code",
   "execution_count": null,
   "metadata": {},
   "outputs": [],
   "source": []
  }
 ],
 "metadata": {
  "kernelspec": {
   "display_name": "Python 3",
   "language": "python",
   "name": "python3"
  },
  "language_info": {
   "codemirror_mode": {
    "name": "ipython",
    "version": 3
   },
   "file_extension": ".py",
   "mimetype": "text/x-python",
   "name": "python",
   "nbconvert_exporter": "python",
   "pygments_lexer": "ipython3",
   "version": "3.7.5"
  }
 },
 "nbformat": 4,
 "nbformat_minor": 2
}
